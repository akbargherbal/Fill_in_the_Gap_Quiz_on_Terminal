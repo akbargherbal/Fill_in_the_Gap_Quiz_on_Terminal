{
 "cells": [
  {
   "cell_type": "code",
   "execution_count": null,
   "metadata": {},
   "outputs": [],
   "source": [
    "from random import randint"
   ]
  },
  {
   "cell_type": "code",
   "execution_count": null,
   "metadata": {},
   "outputs": [],
   "source": []
  },
  {
   "cell_type": "code",
   "execution_count": null,
   "metadata": {},
   "outputs": [],
   "source": [
    "from collections import defaultdict"
   ]
  },
  {
   "cell_type": "code",
   "execution_count": null,
   "metadata": {},
   "outputs": [],
   "source": [
    "import pandas as pd\n",
    "from itertools import chain\n",
    "from collections import Counter\n",
    "import os"
   ]
  },
  {
   "cell_type": "code",
   "execution_count": null,
   "metadata": {},
   "outputs": [],
   "source": [
    "from zipfile import ZipFile"
   ]
  },
  {
   "cell_type": "code",
   "execution_count": null,
   "metadata": {},
   "outputs": [],
   "source": [
    "zf = ZipFile('./QUIZ_ON_CMD.zip')"
   ]
  },
  {
   "cell_type": "code",
   "execution_count": null,
   "metadata": {},
   "outputs": [],
   "source": [
    "quiz_collections  = []\n",
    "for i in zf.filelist:\n",
    "    if i.filename.endswith('.csv') == False:\n",
    "        quiz_collections.append(i.filename)"
   ]
  },
  {
   "cell_type": "code",
   "execution_count": null,
   "metadata": {},
   "outputs": [],
   "source": [
    "quiz_collections"
   ]
  },
  {
   "cell_type": "code",
   "execution_count": null,
   "metadata": {},
   "outputs": [],
   "source": [
    "csv_files  = []\n",
    "for i in zf.filelist:\n",
    "    if i.filename.endswith('.csv'):\n",
    "        csv_files.append(i.filename)"
   ]
  },
  {
   "cell_type": "code",
   "execution_count": null,
   "metadata": {},
   "outputs": [],
   "source": []
  },
  {
   "cell_type": "code",
   "execution_count": null,
   "metadata": {},
   "outputs": [],
   "source": [
    "def sort_function(list_01, extra='A_Bunch_of_Text_'):\n",
    "    '''Sort by intgers not string; i.e. 29 comes before 100!'''\n",
    "    result = [i.replace(extra, '') for i in list_01] # REMOVE PREFIXES IF NECESSARY; LIKE FOLDER PATH.\n",
    "    result = [''.join([i for i in j if i.isnumeric()]) for j in result] # What remains only valid file name\n",
    "    \n",
    "    result = list(zip(list_01, result)) # zip input and output\n",
    "    \n",
    "    result = [(j ,'0') if (set(i) == {'0'}) else (j, i.lstrip('0')) for (j, i) in result]\n",
    "    \n",
    "    try:\n",
    "        result = sorted(result, key= lambda i: int(i[1]))\n",
    "        return [i[0] for i in result]\n",
    "    \n",
    "    except Exception as e:\n",
    "        print('ERROR: Sort Exception!')\n",
    "        print(e)\n",
    "    assert len(list_01) == len(result),f'Something went wrong; input size {len(list_01)} should equal output {len(result)} size!'"
   ]
  },
  {
   "cell_type": "code",
   "execution_count": null,
   "metadata": {},
   "outputs": [],
   "source": []
  },
  {
   "cell_type": "code",
   "execution_count": null,
   "metadata": {},
   "outputs": [],
   "source": []
  },
  {
   "cell_type": "code",
   "execution_count": null,
   "metadata": {},
   "outputs": [],
   "source": [
    "dict_collection_vs_file = defaultdict(list)\n",
    "for quiz in quiz_collections:\n",
    "    for csv_f in csv_files:\n",
    "        if csv_f.startswith(quiz):\n",
    "            dict_collection_vs_file[quiz].append(csv_f)\n",
    "dict_collection_vs_file = dict(dict_collection_vs_file)            \n"
   ]
  },
  {
   "cell_type": "code",
   "execution_count": null,
   "metadata": {},
   "outputs": [],
   "source": [
    "dict_collection_vs_file = {k: sort_function(v, k) for k,v in dict_collection_vs_file.items()}"
   ]
  },
  {
   "cell_type": "code",
   "execution_count": null,
   "metadata": {},
   "outputs": [],
   "source": []
  },
  {
   "cell_type": "code",
   "execution_count": null,
   "metadata": {},
   "outputs": [],
   "source": [
    "list_quiz_collection = list(dict_collection_vs_file)"
   ]
  },
  {
   "cell_type": "code",
   "execution_count": null,
   "metadata": {},
   "outputs": [],
   "source": [
    "list_quiz_collection"
   ]
  },
  {
   "cell_type": "code",
   "execution_count": null,
   "metadata": {},
   "outputs": [],
   "source": [
    "dict_dig_vs_collection = {idx:i for (idx, i) in enumerate(list_quiz_collection)}"
   ]
  },
  {
   "cell_type": "code",
   "execution_count": null,
   "metadata": {},
   "outputs": [],
   "source": [
    "print('Available Quiz Collections are as Follows:')\n",
    "for (idx, q) in enumerate(list_quiz_collection):\n",
    "    print(f'{idx} : {q.replace(\"/\", \"\")}')\n",
    "    print('----------------------------------------------------')"
   ]
  },
  {
   "cell_type": "code",
   "execution_count": null,
   "metadata": {},
   "outputs": [],
   "source": [
    "quiz_type = int(input(f\"\"\"\n",
    "Enter the number of the of quiz you want to test yourself in:\n",
    "Enter an a number between {0} and {len(list_quiz_collection)-1} INCLUSIVE.\n",
    "\"\"\"))"
   ]
  },
  {
   "cell_type": "code",
   "execution_count": null,
   "metadata": {},
   "outputs": [],
   "source": [
    "print(f\"\"\"\n",
    "You'll be tested in the following collection:\n",
    "{dict_dig_vs_collection[quiz_type].replace(\"/\", \"\")}\"\"\")"
   ]
  },
  {
   "cell_type": "code",
   "execution_count": null,
   "metadata": {},
   "outputs": [],
   "source": [
    "with open('COMPLETED_QUIZZES.txt', encoding='utf-8', mode='+a') as f:\n",
    "    set_completed_quizzes = set([i.strip() for i in f.readlines()])\n",
    "\n",
    "set_completed_quizzes"
   ]
  },
  {
   "cell_type": "code",
   "execution_count": null,
   "metadata": {},
   "outputs": [],
   "source": []
  },
  {
   "cell_type": "code",
   "execution_count": null,
   "metadata": {},
   "outputs": [],
   "source": [
    "quiz_list = dict_collection_vs_file[dict_dig_vs_collection[quiz_type]]"
   ]
  },
  {
   "cell_type": "code",
   "execution_count": null,
   "metadata": {},
   "outputs": [],
   "source": [
    "quiz_list = [i for i in quiz_list if i not in set_completed_quizzes]"
   ]
  },
  {
   "cell_type": "code",
   "execution_count": null,
   "metadata": {},
   "outputs": [],
   "source": [
    "quiz = quiz_list[0]"
   ]
  },
  {
   "cell_type": "code",
   "execution_count": null,
   "metadata": {},
   "outputs": [],
   "source": [
    "df = pd.read_csv(zf.open(quiz), encoding='utf-8')\n",
    "df = df.sample(frac=1).reset_index(drop=True)\n",
    "print(f'Number of Questions in this Quiz: {len(df)}')"
   ]
  },
  {
   "cell_type": "code",
   "execution_count": null,
   "metadata": {},
   "outputs": [],
   "source": [
    "df =  list(zip(df.QUESTION_TEXT, df.OPTION_1, df.OPTION_2, df.OPTION_3))"
   ]
  },
  {
   "cell_type": "code",
   "execution_count": null,
   "metadata": {},
   "outputs": [],
   "source": [
    "score = 0\n",
    "progress = 0\n",
    "number_of_questions = len(df)\n",
    "incorrect = 0\n",
    "\n",
    "\n",
    "print(number_of_questions)\n",
    "for (idx, q) in enumerate(df):\n",
    "    print(f'Question: {idx + 1}')\n",
    "    print(q[0])\n",
    "    answer = input(\"\".strip()).lower()\n",
    "    if answer in q[1:]:\n",
    "        print(f'''\n",
    "Correct!\n",
    "''')\n",
    "        score += 1\n",
    "    else:\n",
    "        print(f\"\"\" \n",
    "The word we're looking for is {q[1].upper()}!\n",
    "        \"\"\")\n",
    "        incorrect += 1\n",
    "    \n",
    "    \n",
    "    print(f'Current score is {100 * score} ---- {score} Correct Answer; {incorrect} Incorrect Answer')\n",
    "    print(f'{idx + 1} of {number_of_questions}; {number_of_questions - (idx + 1)} to go!')\n",
    "    print('-'*140)"
   ]
  },
  {
   "cell_type": "markdown",
   "metadata": {},
   "source": [
    "# ALWAYS CLOSE ZIP FILE!!!"
   ]
  },
  {
   "cell_type": "code",
   "execution_count": null,
   "metadata": {},
   "outputs": [],
   "source": []
  },
  {
   "cell_type": "code",
   "execution_count": null,
   "metadata": {},
   "outputs": [],
   "source": [
    "print('Closing ZIP FILE!')\n",
    "zf.close()\n",
    "print('End of Quiz; Goodbye!')"
   ]
  },
  {
   "cell_type": "code",
   "execution_count": null,
   "metadata": {},
   "outputs": [],
   "source": [
    "with open('COMPLETED_QUIZZES.txt', encoding='utf-8', mode='+a') as f:\n",
    "    f.write(f'{quiz}\\n')"
   ]
  },
  {
   "cell_type": "code",
   "execution_count": null,
   "metadata": {},
   "outputs": [],
   "source": []
  },
  {
   "cell_type": "code",
   "execution_count": null,
   "metadata": {},
   "outputs": [],
   "source": []
  }
 ],
 "metadata": {
  "kernelspec": {
   "display_name": "Python 3",
   "language": "python",
   "name": "python3"
  },
  "language_info": {
   "codemirror_mode": {
    "name": "ipython",
    "version": 3
   },
   "file_extension": ".py",
   "mimetype": "text/x-python",
   "name": "python",
   "nbconvert_exporter": "python",
   "pygments_lexer": "ipython3",
   "version": "3.8.7"
  }
 },
 "nbformat": 4,
 "nbformat_minor": 4
}
