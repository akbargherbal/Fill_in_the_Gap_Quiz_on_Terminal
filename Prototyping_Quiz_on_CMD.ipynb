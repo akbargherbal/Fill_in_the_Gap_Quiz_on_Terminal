{
 "cells": [
  {
   "cell_type": "code",
   "execution_count": 1,
   "metadata": {},
   "outputs": [],
   "source": [
    "from random import randint"
   ]
  },
  {
   "cell_type": "code",
   "execution_count": null,
   "metadata": {},
   "outputs": [],
   "source": []
  },
  {
   "cell_type": "code",
   "execution_count": 2,
   "metadata": {},
   "outputs": [],
   "source": [
    "from collections import defaultdict"
   ]
  },
  {
   "cell_type": "code",
   "execution_count": 3,
   "metadata": {},
   "outputs": [],
   "source": [
    "import pandas as pd\n",
    "from itertools import chain\n",
    "from collections import Counter\n",
    "import os"
   ]
  },
  {
   "cell_type": "code",
   "execution_count": 4,
   "metadata": {},
   "outputs": [],
   "source": [
    "from zipfile import ZipFile"
   ]
  },
  {
   "cell_type": "code",
   "execution_count": 5,
   "metadata": {},
   "outputs": [],
   "source": [
    "zf = ZipFile('./QUIZ_ON_CMD.zip')"
   ]
  },
  {
   "cell_type": "code",
   "execution_count": 6,
   "metadata": {},
   "outputs": [],
   "source": [
    "quiz_collections  = []\n",
    "for i in zf.filelist:\n",
    "    if i.filename.endswith('.csv') == False:\n",
    "        quiz_collections.append(i.filename)"
   ]
  },
  {
   "cell_type": "code",
   "execution_count": 7,
   "metadata": {},
   "outputs": [
    {
     "data": {
      "text/plain": [
       "['NOUN_CMD_AUTHOR_VOICE_16_November_2022/',\n",
       " 'VERB_CMD_AUTHOR_VOICE_16_November_2022/']"
      ]
     },
     "execution_count": 7,
     "metadata": {},
     "output_type": "execute_result"
    }
   ],
   "source": [
    "quiz_collections"
   ]
  },
  {
   "cell_type": "code",
   "execution_count": 8,
   "metadata": {},
   "outputs": [],
   "source": [
    "csv_files  = []\n",
    "for i in zf.filelist:\n",
    "    if i.filename.endswith('.csv'):\n",
    "        csv_files.append(i.filename)"
   ]
  },
  {
   "cell_type": "code",
   "execution_count": null,
   "metadata": {},
   "outputs": [],
   "source": []
  },
  {
   "cell_type": "code",
   "execution_count": null,
   "metadata": {},
   "outputs": [],
   "source": [
    "def sort_function(list_01, extra='A_Bunch_of_Text_'):\n",
    "    '''Sort by intgers not string; i.e. 29 comes before 100!'''\n",
    "    result = [i.replace(extra, '') for i in list_01] # REMOVE PREFIXES IF NECESSARY; LIKE FOLDER PATH.\n",
    "    result = [''.join([i for i in j if i.isnumeric()]) for j in result] # What remains only valid file name\n",
    "    \n",
    "    result = list(zip(list_01, result)) # zip input and output\n",
    "    \n",
    "    result = [(j ,'0') if (set(i) == {'0'}) else (j, i.lstrip('0')) for (j, i) in result]\n",
    "    \n",
    "    try:\n",
    "        result = sorted(result, key= lambda i: int(i[1]))\n",
    "        return [i[0] for i in result]\n",
    "    \n",
    "    except Exception as e:\n",
    "        print('ERROR: Sort Exception!')\n",
    "        print(e)\n",
    "    assert len(list_01) == len(result),f'Something went wrong; input size {len(list_01)} should equal output {len(result)} size!'"
   ]
  },
  {
   "cell_type": "code",
   "execution_count": null,
   "metadata": {},
   "outputs": [],
   "source": []
  },
  {
   "cell_type": "code",
   "execution_count": null,
   "metadata": {},
   "outputs": [],
   "source": []
  },
  {
   "cell_type": "code",
   "execution_count": 9,
   "metadata": {},
   "outputs": [],
   "source": [
    "dict_collection_vs_file = defaultdict(list)\n",
    "for quiz in quiz_collections:\n",
    "    for csv_f in csv_files:\n",
    "        if csv_f.startswith(quiz):\n",
    "            dict_collection_vs_file[quiz].append(csv_f)\n",
    "dict_collection_vs_file = dict(dict_collection_vs_file)            \n"
   ]
  },
  {
   "cell_type": "code",
   "execution_count": 10,
   "metadata": {},
   "outputs": [],
   "source": [
    "dict_collection_vs_file = {k: sorted(v) for k,v in dict_collection_vs_file.items()}"
   ]
  },
  {
   "cell_type": "code",
   "execution_count": 13,
   "metadata": {},
   "outputs": [
    {
     "data": {
      "text/plain": [
       "['VERB_CMD_AUTHOR_VOICE_16_November_2022/VERB_QUIZ_001.csv',\n",
       " 'VERB_CMD_AUTHOR_VOICE_16_November_2022/VERB_QUIZ_002.csv',\n",
       " 'VERB_CMD_AUTHOR_VOICE_16_November_2022/VERB_QUIZ_003.csv',\n",
       " 'VERB_CMD_AUTHOR_VOICE_16_November_2022/VERB_QUIZ_004.csv',\n",
       " 'VERB_CMD_AUTHOR_VOICE_16_November_2022/VERB_QUIZ_005.csv',\n",
       " 'VERB_CMD_AUTHOR_VOICE_16_November_2022/VERB_QUIZ_006.csv',\n",
       " 'VERB_CMD_AUTHOR_VOICE_16_November_2022/VERB_QUIZ_007.csv',\n",
       " 'VERB_CMD_AUTHOR_VOICE_16_November_2022/VERB_QUIZ_008.csv',\n",
       " 'VERB_CMD_AUTHOR_VOICE_16_November_2022/VERB_QUIZ_009.csv',\n",
       " 'VERB_CMD_AUTHOR_VOICE_16_November_2022/VERB_QUIZ_010.csv',\n",
       " 'VERB_CMD_AUTHOR_VOICE_16_November_2022/VERB_QUIZ_011.csv',\n",
       " 'VERB_CMD_AUTHOR_VOICE_16_November_2022/VERB_QUIZ_012.csv',\n",
       " 'VERB_CMD_AUTHOR_VOICE_16_November_2022/VERB_QUIZ_013.csv',\n",
       " 'VERB_CMD_AUTHOR_VOICE_16_November_2022/VERB_QUIZ_014.csv',\n",
       " 'VERB_CMD_AUTHOR_VOICE_16_November_2022/VERB_QUIZ_015.csv',\n",
       " 'VERB_CMD_AUTHOR_VOICE_16_November_2022/VERB_QUIZ_016.csv',\n",
       " 'VERB_CMD_AUTHOR_VOICE_16_November_2022/VERB_QUIZ_017.csv',\n",
       " 'VERB_CMD_AUTHOR_VOICE_16_November_2022/VERB_QUIZ_018.csv',\n",
       " 'VERB_CMD_AUTHOR_VOICE_16_November_2022/VERB_QUIZ_019.csv',\n",
       " 'VERB_CMD_AUTHOR_VOICE_16_November_2022/VERB_QUIZ_020.csv',\n",
       " 'VERB_CMD_AUTHOR_VOICE_16_November_2022/VERB_QUIZ_021.csv',\n",
       " 'VERB_CMD_AUTHOR_VOICE_16_November_2022/VERB_QUIZ_022.csv',\n",
       " 'VERB_CMD_AUTHOR_VOICE_16_November_2022/VERB_QUIZ_023.csv',\n",
       " 'VERB_CMD_AUTHOR_VOICE_16_November_2022/VERB_QUIZ_024.csv',\n",
       " 'VERB_CMD_AUTHOR_VOICE_16_November_2022/VERB_QUIZ_025.csv',\n",
       " 'VERB_CMD_AUTHOR_VOICE_16_November_2022/VERB_QUIZ_026.csv',\n",
       " 'VERB_CMD_AUTHOR_VOICE_16_November_2022/VERB_QUIZ_027.csv',\n",
       " 'VERB_CMD_AUTHOR_VOICE_16_November_2022/VERB_QUIZ_028.csv',\n",
       " 'VERB_CMD_AUTHOR_VOICE_16_November_2022/VERB_QUIZ_029.csv',\n",
       " 'VERB_CMD_AUTHOR_VOICE_16_November_2022/VERB_QUIZ_030.csv',\n",
       " 'VERB_CMD_AUTHOR_VOICE_16_November_2022/VERB_QUIZ_031.csv',\n",
       " 'VERB_CMD_AUTHOR_VOICE_16_November_2022/VERB_QUIZ_032.csv',\n",
       " 'VERB_CMD_AUTHOR_VOICE_16_November_2022/VERB_QUIZ_033.csv',\n",
       " 'VERB_CMD_AUTHOR_VOICE_16_November_2022/VERB_QUIZ_034.csv',\n",
       " 'VERB_CMD_AUTHOR_VOICE_16_November_2022/VERB_QUIZ_035.csv',\n",
       " 'VERB_CMD_AUTHOR_VOICE_16_November_2022/VERB_QUIZ_036.csv',\n",
       " 'VERB_CMD_AUTHOR_VOICE_16_November_2022/VERB_QUIZ_037.csv',\n",
       " 'VERB_CMD_AUTHOR_VOICE_16_November_2022/VERB_QUIZ_038.csv',\n",
       " 'VERB_CMD_AUTHOR_VOICE_16_November_2022/VERB_QUIZ_039.csv',\n",
       " 'VERB_CMD_AUTHOR_VOICE_16_November_2022/VERB_QUIZ_040.csv',\n",
       " 'VERB_CMD_AUTHOR_VOICE_16_November_2022/VERB_QUIZ_041.csv',\n",
       " 'VERB_CMD_AUTHOR_VOICE_16_November_2022/VERB_QUIZ_042.csv',\n",
       " 'VERB_CMD_AUTHOR_VOICE_16_November_2022/VERB_QUIZ_043.csv',\n",
       " 'VERB_CMD_AUTHOR_VOICE_16_November_2022/VERB_QUIZ_044.csv',\n",
       " 'VERB_CMD_AUTHOR_VOICE_16_November_2022/VERB_QUIZ_045.csv',\n",
       " 'VERB_CMD_AUTHOR_VOICE_16_November_2022/VERB_QUIZ_046.csv',\n",
       " 'VERB_CMD_AUTHOR_VOICE_16_November_2022/VERB_QUIZ_047.csv',\n",
       " 'VERB_CMD_AUTHOR_VOICE_16_November_2022/VERB_QUIZ_048.csv',\n",
       " 'VERB_CMD_AUTHOR_VOICE_16_November_2022/VERB_QUIZ_049.csv',\n",
       " 'VERB_CMD_AUTHOR_VOICE_16_November_2022/VERB_QUIZ_050.csv',\n",
       " 'VERB_CMD_AUTHOR_VOICE_16_November_2022/VERB_QUIZ_051.csv',\n",
       " 'VERB_CMD_AUTHOR_VOICE_16_November_2022/VERB_QUIZ_052.csv',\n",
       " 'VERB_CMD_AUTHOR_VOICE_16_November_2022/VERB_QUIZ_053.csv',\n",
       " 'VERB_CMD_AUTHOR_VOICE_16_November_2022/VERB_QUIZ_054.csv',\n",
       " 'VERB_CMD_AUTHOR_VOICE_16_November_2022/VERB_QUIZ_055.csv',\n",
       " 'VERB_CMD_AUTHOR_VOICE_16_November_2022/VERB_QUIZ_056.csv',\n",
       " 'VERB_CMD_AUTHOR_VOICE_16_November_2022/VERB_QUIZ_057.csv',\n",
       " 'VERB_CMD_AUTHOR_VOICE_16_November_2022/VERB_QUIZ_058.csv',\n",
       " 'VERB_CMD_AUTHOR_VOICE_16_November_2022/VERB_QUIZ_059.csv',\n",
       " 'VERB_CMD_AUTHOR_VOICE_16_November_2022/VERB_QUIZ_060.csv',\n",
       " 'VERB_CMD_AUTHOR_VOICE_16_November_2022/VERB_QUIZ_061.csv',\n",
       " 'VERB_CMD_AUTHOR_VOICE_16_November_2022/VERB_QUIZ_062.csv',\n",
       " 'VERB_CMD_AUTHOR_VOICE_16_November_2022/VERB_QUIZ_063.csv',\n",
       " 'VERB_CMD_AUTHOR_VOICE_16_November_2022/VERB_QUIZ_064.csv',\n",
       " 'VERB_CMD_AUTHOR_VOICE_16_November_2022/VERB_QUIZ_065.csv',\n",
       " 'VERB_CMD_AUTHOR_VOICE_16_November_2022/VERB_QUIZ_066.csv',\n",
       " 'VERB_CMD_AUTHOR_VOICE_16_November_2022/VERB_QUIZ_067.csv',\n",
       " 'VERB_CMD_AUTHOR_VOICE_16_November_2022/VERB_QUIZ_068.csv',\n",
       " 'VERB_CMD_AUTHOR_VOICE_16_November_2022/VERB_QUIZ_069.csv',\n",
       " 'VERB_CMD_AUTHOR_VOICE_16_November_2022/VERB_QUIZ_070.csv',\n",
       " 'VERB_CMD_AUTHOR_VOICE_16_November_2022/VERB_QUIZ_071.csv',\n",
       " 'VERB_CMD_AUTHOR_VOICE_16_November_2022/VERB_QUIZ_072.csv',\n",
       " 'VERB_CMD_AUTHOR_VOICE_16_November_2022/VERB_QUIZ_073.csv',\n",
       " 'VERB_CMD_AUTHOR_VOICE_16_November_2022/VERB_QUIZ_074.csv',\n",
       " 'VERB_CMD_AUTHOR_VOICE_16_November_2022/VERB_QUIZ_075.csv',\n",
       " 'VERB_CMD_AUTHOR_VOICE_16_November_2022/VERB_QUIZ_076.csv',\n",
       " 'VERB_CMD_AUTHOR_VOICE_16_November_2022/VERB_QUIZ_077.csv',\n",
       " 'VERB_CMD_AUTHOR_VOICE_16_November_2022/VERB_QUIZ_078.csv',\n",
       " 'VERB_CMD_AUTHOR_VOICE_16_November_2022/VERB_QUIZ_079.csv',\n",
       " 'VERB_CMD_AUTHOR_VOICE_16_November_2022/VERB_QUIZ_080.csv',\n",
       " 'VERB_CMD_AUTHOR_VOICE_16_November_2022/VERB_QUIZ_081.csv',\n",
       " 'VERB_CMD_AUTHOR_VOICE_16_November_2022/VERB_QUIZ_082.csv',\n",
       " 'VERB_CMD_AUTHOR_VOICE_16_November_2022/VERB_QUIZ_083.csv',\n",
       " 'VERB_CMD_AUTHOR_VOICE_16_November_2022/VERB_QUIZ_084.csv',\n",
       " 'VERB_CMD_AUTHOR_VOICE_16_November_2022/VERB_QUIZ_085.csv',\n",
       " 'VERB_CMD_AUTHOR_VOICE_16_November_2022/VERB_QUIZ_086.csv',\n",
       " 'VERB_CMD_AUTHOR_VOICE_16_November_2022/VERB_QUIZ_087.csv',\n",
       " 'VERB_CMD_AUTHOR_VOICE_16_November_2022/VERB_QUIZ_088.csv',\n",
       " 'VERB_CMD_AUTHOR_VOICE_16_November_2022/VERB_QUIZ_089.csv',\n",
       " 'VERB_CMD_AUTHOR_VOICE_16_November_2022/VERB_QUIZ_090.csv',\n",
       " 'VERB_CMD_AUTHOR_VOICE_16_November_2022/VERB_QUIZ_091.csv',\n",
       " 'VERB_CMD_AUTHOR_VOICE_16_November_2022/VERB_QUIZ_092.csv',\n",
       " 'VERB_CMD_AUTHOR_VOICE_16_November_2022/VERB_QUIZ_093.csv',\n",
       " 'VERB_CMD_AUTHOR_VOICE_16_November_2022/VERB_QUIZ_094.csv',\n",
       " 'VERB_CMD_AUTHOR_VOICE_16_November_2022/VERB_QUIZ_095.csv',\n",
       " 'VERB_CMD_AUTHOR_VOICE_16_November_2022/VERB_QUIZ_096.csv',\n",
       " 'VERB_CMD_AUTHOR_VOICE_16_November_2022/VERB_QUIZ_097.csv',\n",
       " 'VERB_CMD_AUTHOR_VOICE_16_November_2022/VERB_QUIZ_098.csv',\n",
       " 'VERB_CMD_AUTHOR_VOICE_16_November_2022/VERB_QUIZ_099.csv',\n",
       " 'VERB_CMD_AUTHOR_VOICE_16_November_2022/VERB_QUIZ_100.csv']"
      ]
     },
     "execution_count": 13,
     "metadata": {},
     "output_type": "execute_result"
    }
   ],
   "source": [
    "dict_collection_vs_file['VERB_CMD_AUTHOR_VOICE_16_November_2022/']"
   ]
  },
  {
   "cell_type": "code",
   "execution_count": null,
   "metadata": {},
   "outputs": [],
   "source": [
    "list_quiz_collection = list(dict_collection_vs_file)"
   ]
  },
  {
   "cell_type": "code",
   "execution_count": null,
   "metadata": {},
   "outputs": [],
   "source": [
    "list_quiz_collection"
   ]
  },
  {
   "cell_type": "code",
   "execution_count": null,
   "metadata": {},
   "outputs": [],
   "source": [
    "dict_dig_vs_collection = {idx:i for (idx, i) in enumerate(list_quiz_collection)}"
   ]
  },
  {
   "cell_type": "code",
   "execution_count": null,
   "metadata": {},
   "outputs": [],
   "source": [
    "print('Available Quiz Collections are as Follows:')\n",
    "for (idx, q) in enumerate(list_quiz_collection):\n",
    "    print(f'{idx} : {q.replace(\"/\", \"\")}')\n",
    "    print('----------------------------------------------------')"
   ]
  },
  {
   "cell_type": "code",
   "execution_count": null,
   "metadata": {},
   "outputs": [],
   "source": [
    "quiz_type = int(input(f\"\"\"\n",
    "Enter the number of the of quiz you want to test yourself in:\n",
    "Enter an a number between {0} and {len(list_quiz_collection)-1} INCLUSIVE.\n",
    "\"\"\"))"
   ]
  },
  {
   "cell_type": "code",
   "execution_count": null,
   "metadata": {},
   "outputs": [],
   "source": [
    "print(f\"\"\"\n",
    "You'll be tested in the following collection:\n",
    "{dict_dig_vs_collection[quiz_type].replace(\"/\", \"\")}\"\"\")"
   ]
  },
  {
   "cell_type": "code",
   "execution_count": null,
   "metadata": {},
   "outputs": [],
   "source": [
    "with open('COMPLETED_QUIZZES.txt', encoding='utf-8', mode='+a') as f:\n",
    "    set_completed_quizzes = set([i.strip() for i in f.readlines()])\n",
    "\n",
    "set_completed_quizzes"
   ]
  },
  {
   "cell_type": "code",
   "execution_count": null,
   "metadata": {},
   "outputs": [],
   "source": []
  },
  {
   "cell_type": "code",
   "execution_count": null,
   "metadata": {},
   "outputs": [],
   "source": [
    "quiz_list = dict_collection_vs_file[dict_dig_vs_collection[quiz_type]]"
   ]
  },
  {
   "cell_type": "code",
   "execution_count": null,
   "metadata": {},
   "outputs": [],
   "source": [
    "quiz_list = [i for i in quiz_list if i not in set_completed_quizzes]"
   ]
  },
  {
   "cell_type": "code",
   "execution_count": null,
   "metadata": {},
   "outputs": [],
   "source": [
    "quiz = quiz_list[0]"
   ]
  },
  {
   "cell_type": "code",
   "execution_count": null,
   "metadata": {},
   "outputs": [],
   "source": [
    "df = pd.read_csv(zf.open(quiz), encoding='utf-8')\n",
    "df = df.sample(frac=1).reset_index(drop=True)\n",
    "print(f'Number of Questions in this Quiz: {len(df)}')"
   ]
  },
  {
   "cell_type": "code",
   "execution_count": null,
   "metadata": {},
   "outputs": [],
   "source": [
    "df =  list(zip(df.QUESTION_TEXT, df.OPTION_1, df.OPTION_2, df.OPTION_3))"
   ]
  },
  {
   "cell_type": "code",
   "execution_count": null,
   "metadata": {},
   "outputs": [],
   "source": [
    "score = 0\n",
    "progress = 0\n",
    "number_of_questions = len(df)\n",
    "incorrect = 0\n",
    "\n",
    "\n",
    "print(number_of_questions)\n",
    "for (idx, q) in enumerate(df):\n",
    "    print(f'Question: {idx + 1}')\n",
    "    print(q[0])\n",
    "    answer = input(\"\".strip()).lower()\n",
    "    if answer in q[1:]:\n",
    "        print(f'''\n",
    "Correct!\n",
    "''')\n",
    "        score += 1\n",
    "    else:\n",
    "        print(f\"\"\" \n",
    "The word we're looking for is {q[1].upper()}!\n",
    "        \"\"\")\n",
    "        incorrect += 1\n",
    "    \n",
    "    \n",
    "    print(f'Current score is {100 * score} ---- {score} Correct Answer; {incorrect} Incorrect Answer')\n",
    "    print(f'{idx + 1} of {number_of_questions}; {number_of_questions - (idx + 1)} to go!')\n",
    "    print('-'*140)"
   ]
  },
  {
   "cell_type": "markdown",
   "metadata": {},
   "source": [
    "# ALWAYS CLOSE ZIP FILE!!!"
   ]
  },
  {
   "cell_type": "code",
   "execution_count": null,
   "metadata": {},
   "outputs": [],
   "source": []
  },
  {
   "cell_type": "code",
   "execution_count": null,
   "metadata": {},
   "outputs": [],
   "source": [
    "print('Closing ZIP FILE!')\n",
    "zf.close()\n",
    "print('End of Quiz; Goodbye!')"
   ]
  },
  {
   "cell_type": "code",
   "execution_count": null,
   "metadata": {},
   "outputs": [],
   "source": [
    "with open('COMPLETED_QUIZZES.txt', encoding='utf-8', mode='+a') as f:\n",
    "    f.write(f'{quiz}\\n')"
   ]
  },
  {
   "cell_type": "code",
   "execution_count": null,
   "metadata": {},
   "outputs": [],
   "source": []
  },
  {
   "cell_type": "code",
   "execution_count": 10,
   "metadata": {},
   "outputs": [
    {
     "data": {
      "text/plain": [
       "set()"
      ]
     },
     "execution_count": 10,
     "metadata": {},
     "output_type": "execute_result"
    }
   ],
   "source": [
    "set().union(set())"
   ]
  },
  {
   "cell_type": "code",
   "execution_count": 13,
   "metadata": {},
   "outputs": [],
   "source": [
    "test = pd.DataFrame()"
   ]
  },
  {
   "cell_type": "code",
   "execution_count": 14,
   "metadata": {},
   "outputs": [],
   "source": [
    "quiz = ['hel']"
   ]
  },
  {
   "cell_type": "code",
   "execution_count": 15,
   "metadata": {},
   "outputs": [],
   "source": [
    "test['QUIZ'] = quiz"
   ]
  },
  {
   "cell_type": "code",
   "execution_count": 16,
   "metadata": {},
   "outputs": [
    {
     "data": {
      "text/html": [
       "<div>\n",
       "<style scoped>\n",
       "    .dataframe tbody tr th:only-of-type {\n",
       "        vertical-align: middle;\n",
       "    }\n",
       "\n",
       "    .dataframe tbody tr th {\n",
       "        vertical-align: top;\n",
       "    }\n",
       "\n",
       "    .dataframe thead th {\n",
       "        text-align: right;\n",
       "    }\n",
       "</style>\n",
       "<table border=\"1\" class=\"dataframe\">\n",
       "  <thead>\n",
       "    <tr style=\"text-align: right;\">\n",
       "      <th></th>\n",
       "      <th>QUIZ</th>\n",
       "    </tr>\n",
       "  </thead>\n",
       "  <tbody>\n",
       "    <tr>\n",
       "      <th>0</th>\n",
       "      <td>hel</td>\n",
       "    </tr>\n",
       "  </tbody>\n",
       "</table>\n",
       "</div>"
      ],
      "text/plain": [
       "  QUIZ\n",
       "0  hel"
      ]
     },
     "execution_count": 16,
     "metadata": {},
     "output_type": "execute_result"
    }
   ],
   "source": [
    "test"
   ]
  },
  {
   "cell_type": "code",
   "execution_count": 20,
   "metadata": {},
   "outputs": [],
   "source": [
    "cols = 'COL_01 COL_02 COL_03'.split()\n",
    "data = {col: [] for col in cols}"
   ]
  },
  {
   "cell_type": "code",
   "execution_count": 24,
   "metadata": {},
   "outputs": [],
   "source": [
    "test = pd.DataFrame(data)"
   ]
  },
  {
   "cell_type": "code",
   "execution_count": 30,
   "metadata": {},
   "outputs": [
    {
     "data": {
      "text/html": [
       "<div>\n",
       "<style scoped>\n",
       "    .dataframe tbody tr th:only-of-type {\n",
       "        vertical-align: middle;\n",
       "    }\n",
       "\n",
       "    .dataframe tbody tr th {\n",
       "        vertical-align: top;\n",
       "    }\n",
       "\n",
       "    .dataframe thead th {\n",
       "        text-align: right;\n",
       "    }\n",
       "</style>\n",
       "<table border=\"1\" class=\"dataframe\">\n",
       "  <thead>\n",
       "    <tr style=\"text-align: right;\">\n",
       "      <th></th>\n",
       "      <th>COL_01</th>\n",
       "      <th>COL_02</th>\n",
       "      <th>COL_03</th>\n",
       "    </tr>\n",
       "  </thead>\n",
       "  <tbody>\n",
       "  </tbody>\n",
       "</table>\n",
       "</div>"
      ],
      "text/plain": [
       "Empty DataFrame\n",
       "Columns: [COL_01, COL_02, COL_03]\n",
       "Index: []"
      ]
     },
     "execution_count": 30,
     "metadata": {},
     "output_type": "execute_result"
    }
   ],
   "source": [
    "test"
   ]
  },
  {
   "cell_type": "code",
   "execution_count": 37,
   "metadata": {},
   "outputs": [
    {
     "data": {
      "text/html": [
       "<div>\n",
       "<style scoped>\n",
       "    .dataframe tbody tr th:only-of-type {\n",
       "        vertical-align: middle;\n",
       "    }\n",
       "\n",
       "    .dataframe tbody tr th {\n",
       "        vertical-align: top;\n",
       "    }\n",
       "\n",
       "    .dataframe thead th {\n",
       "        text-align: right;\n",
       "    }\n",
       "</style>\n",
       "<table border=\"1\" class=\"dataframe\">\n",
       "  <thead>\n",
       "    <tr style=\"text-align: right;\">\n",
       "      <th></th>\n",
       "      <th>COL_01</th>\n",
       "      <th>COL_02</th>\n",
       "      <th>COL_03</th>\n",
       "      <th>0</th>\n",
       "    </tr>\n",
       "  </thead>\n",
       "  <tbody>\n",
       "    <tr>\n",
       "      <th>0</th>\n",
       "      <td>NaN</td>\n",
       "      <td>NaN</td>\n",
       "      <td>NaN</td>\n",
       "      <td>0.0</td>\n",
       "    </tr>\n",
       "    <tr>\n",
       "      <th>1</th>\n",
       "      <td>NaN</td>\n",
       "      <td>NaN</td>\n",
       "      <td>NaN</td>\n",
       "      <td>1.0</td>\n",
       "    </tr>\n",
       "    <tr>\n",
       "      <th>2</th>\n",
       "      <td>NaN</td>\n",
       "      <td>NaN</td>\n",
       "      <td>NaN</td>\n",
       "      <td>5.0</td>\n",
       "    </tr>\n",
       "  </tbody>\n",
       "</table>\n",
       "</div>"
      ],
      "text/plain": [
       "   COL_01  COL_02  COL_03    0\n",
       "0     NaN     NaN     NaN  0.0\n",
       "1     NaN     NaN     NaN  1.0\n",
       "2     NaN     NaN     NaN  5.0"
      ]
     },
     "execution_count": 37,
     "metadata": {},
     "output_type": "execute_result"
    }
   ],
   "source": [
    "pd.DataFrame().append(test).append([0,1,5], ax)"
   ]
  },
  {
   "cell_type": "code",
   "execution_count": 38,
   "metadata": {},
   "outputs": [],
   "source": [
    "df_incorrect = pd.DataFrame()\n",
    "df_incorrect['QUESTION_TEXT'] = []\n",
    "df_incorrect['OPTION_1'] = []\n",
    "df_incorrect['OPTION_2'] = []\n",
    "df_incorrect['OPTION_3'] = []"
   ]
  },
  {
   "cell_type": "code",
   "execution_count": 40,
   "metadata": {},
   "outputs": [],
   "source": [
    "df_incorrect.to_csv('REVISE_QUIZ.csv', encoding='utf-8', index=False)"
   ]
  },
  {
   "cell_type": "code",
   "execution_count": 43,
   "metadata": {},
   "outputs": [
    {
     "ename": "TypeError",
     "evalue": "cannot concatenate object of type '<class 'str'>'; only Series and DataFrame objs are valid",
     "output_type": "error",
     "traceback": [
      "\u001b[1;31m---------------------------------------------------------------------------\u001b[0m",
      "\u001b[1;31mTypeError\u001b[0m                                 Traceback (most recent call last)",
      "\u001b[1;32m<ipython-input-43-6699ebc31458>\u001b[0m in \u001b[0;36m<module>\u001b[1;34m\u001b[0m\n\u001b[1;32m----> 1\u001b[1;33m \u001b[0mdf_incorrect\u001b[0m\u001b[1;33m[\u001b[0m\u001b[1;34m'QUESTION_TEXT'\u001b[0m\u001b[1;33m]\u001b[0m\u001b[1;33m.\u001b[0m\u001b[0mappend\u001b[0m\u001b[1;33m(\u001b[0m\u001b[1;34m\"d\"\u001b[0m\u001b[1;33m)\u001b[0m\u001b[1;33m\u001b[0m\u001b[1;33m\u001b[0m\u001b[0m\n\u001b[0m",
      "\u001b[1;32mc:\\users\\gherb\\appdata\\local\\programs\\python\\python38\\lib\\site-packages\\pandas\\core\\series.py\u001b[0m in \u001b[0;36mappend\u001b[1;34m(self, to_append, ignore_index, verify_integrity)\u001b[0m\n\u001b[0;32m   2875\u001b[0m             \u001b[0mmsg\u001b[0m \u001b[1;33m=\u001b[0m \u001b[1;34m\"to_append should be a Series or list/tuple of Series, got DataFrame\"\u001b[0m\u001b[1;33m\u001b[0m\u001b[1;33m\u001b[0m\u001b[0m\n\u001b[0;32m   2876\u001b[0m             \u001b[1;32mraise\u001b[0m \u001b[0mTypeError\u001b[0m\u001b[1;33m(\u001b[0m\u001b[0mmsg\u001b[0m\u001b[1;33m)\u001b[0m\u001b[1;33m\u001b[0m\u001b[1;33m\u001b[0m\u001b[0m\n\u001b[1;32m-> 2877\u001b[1;33m         return concat(\n\u001b[0m\u001b[0;32m   2878\u001b[0m             \u001b[0mto_concat\u001b[0m\u001b[1;33m,\u001b[0m \u001b[0mignore_index\u001b[0m\u001b[1;33m=\u001b[0m\u001b[0mignore_index\u001b[0m\u001b[1;33m,\u001b[0m \u001b[0mverify_integrity\u001b[0m\u001b[1;33m=\u001b[0m\u001b[0mverify_integrity\u001b[0m\u001b[1;33m\u001b[0m\u001b[1;33m\u001b[0m\u001b[0m\n\u001b[0;32m   2879\u001b[0m         )\n",
      "\u001b[1;32mc:\\users\\gherb\\appdata\\local\\programs\\python\\python38\\lib\\site-packages\\pandas\\util\\_decorators.py\u001b[0m in \u001b[0;36mwrapper\u001b[1;34m(*args, **kwargs)\u001b[0m\n\u001b[0;32m    309\u001b[0m                     \u001b[0mstacklevel\u001b[0m\u001b[1;33m=\u001b[0m\u001b[0mstacklevel\u001b[0m\u001b[1;33m,\u001b[0m\u001b[1;33m\u001b[0m\u001b[1;33m\u001b[0m\u001b[0m\n\u001b[0;32m    310\u001b[0m                 )\n\u001b[1;32m--> 311\u001b[1;33m             \u001b[1;32mreturn\u001b[0m \u001b[0mfunc\u001b[0m\u001b[1;33m(\u001b[0m\u001b[1;33m*\u001b[0m\u001b[0margs\u001b[0m\u001b[1;33m,\u001b[0m \u001b[1;33m**\u001b[0m\u001b[0mkwargs\u001b[0m\u001b[1;33m)\u001b[0m\u001b[1;33m\u001b[0m\u001b[1;33m\u001b[0m\u001b[0m\n\u001b[0m\u001b[0;32m    312\u001b[0m \u001b[1;33m\u001b[0m\u001b[0m\n\u001b[0;32m    313\u001b[0m         \u001b[1;32mreturn\u001b[0m \u001b[0mwrapper\u001b[0m\u001b[1;33m\u001b[0m\u001b[1;33m\u001b[0m\u001b[0m\n",
      "\u001b[1;32mc:\\users\\gherb\\appdata\\local\\programs\\python\\python38\\lib\\site-packages\\pandas\\core\\reshape\\concat.py\u001b[0m in \u001b[0;36mconcat\u001b[1;34m(objs, axis, join, ignore_index, keys, levels, names, verify_integrity, sort, copy)\u001b[0m\n\u001b[0;32m    292\u001b[0m     \u001b[0mValueError\u001b[0m\u001b[1;33m:\u001b[0m \u001b[0mIndexes\u001b[0m \u001b[0mhave\u001b[0m \u001b[0moverlapping\u001b[0m \u001b[0mvalues\u001b[0m\u001b[1;33m:\u001b[0m \u001b[1;33m[\u001b[0m\u001b[1;34m'a'\u001b[0m\u001b[1;33m]\u001b[0m\u001b[1;33m\u001b[0m\u001b[1;33m\u001b[0m\u001b[0m\n\u001b[0;32m    293\u001b[0m     \"\"\"\n\u001b[1;32m--> 294\u001b[1;33m     op = _Concatenator(\n\u001b[0m\u001b[0;32m    295\u001b[0m         \u001b[0mobjs\u001b[0m\u001b[1;33m,\u001b[0m\u001b[1;33m\u001b[0m\u001b[1;33m\u001b[0m\u001b[0m\n\u001b[0;32m    296\u001b[0m         \u001b[0maxis\u001b[0m\u001b[1;33m=\u001b[0m\u001b[0maxis\u001b[0m\u001b[1;33m,\u001b[0m\u001b[1;33m\u001b[0m\u001b[1;33m\u001b[0m\u001b[0m\n",
      "\u001b[1;32mc:\\users\\gherb\\appdata\\local\\programs\\python\\python38\\lib\\site-packages\\pandas\\core\\reshape\\concat.py\u001b[0m in \u001b[0;36m__init__\u001b[1;34m(self, objs, axis, join, keys, levels, names, ignore_index, verify_integrity, copy, sort)\u001b[0m\n\u001b[0;32m    382\u001b[0m                     \u001b[1;34m\"only Series and DataFrame objs are valid\"\u001b[0m\u001b[1;33m\u001b[0m\u001b[1;33m\u001b[0m\u001b[0m\n\u001b[0;32m    383\u001b[0m                 )\n\u001b[1;32m--> 384\u001b[1;33m                 \u001b[1;32mraise\u001b[0m \u001b[0mTypeError\u001b[0m\u001b[1;33m(\u001b[0m\u001b[0mmsg\u001b[0m\u001b[1;33m)\u001b[0m\u001b[1;33m\u001b[0m\u001b[1;33m\u001b[0m\u001b[0m\n\u001b[0m\u001b[0;32m    385\u001b[0m \u001b[1;33m\u001b[0m\u001b[0m\n\u001b[0;32m    386\u001b[0m             \u001b[0mndims\u001b[0m\u001b[1;33m.\u001b[0m\u001b[0madd\u001b[0m\u001b[1;33m(\u001b[0m\u001b[0mobj\u001b[0m\u001b[1;33m.\u001b[0m\u001b[0mndim\u001b[0m\u001b[1;33m)\u001b[0m\u001b[1;33m\u001b[0m\u001b[1;33m\u001b[0m\u001b[0m\n",
      "\u001b[1;31mTypeError\u001b[0m: cannot concatenate object of type '<class 'str'>'; only Series and DataFrame objs are valid"
     ]
    }
   ],
   "source": [
    "df_incorrect['QUESTION_TEXT'].append"
   ]
  },
  {
   "cell_type": "code",
   "execution_count": null,
   "metadata": {},
   "outputs": [],
   "source": []
  }
 ],
 "metadata": {
  "kernelspec": {
   "display_name": "Python 3",
   "language": "python",
   "name": "python3"
  },
  "language_info": {
   "codemirror_mode": {
    "name": "ipython",
    "version": 3
   },
   "file_extension": ".py",
   "mimetype": "text/x-python",
   "name": "python",
   "nbconvert_exporter": "python",
   "pygments_lexer": "ipython3",
   "version": "3.8.7"
  }
 },
 "nbformat": 4,
 "nbformat_minor": 4
}
